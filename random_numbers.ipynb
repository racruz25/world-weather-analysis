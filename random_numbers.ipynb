{
 "cells": [
  {
   "cell_type": "code",
   "execution_count": 21,
   "id": "ed2b7706",
   "metadata": {},
   "outputs": [],
   "source": [
    "# Import the random module.\n",
    "import random\n",
    "\n",
    "# Import the NumPy module.\n",
    "import numpy as np\n",
    "\n",
    "# Import timeit.\n",
    "import timeit"
   ]
  },
  {
   "cell_type": "code",
   "execution_count": 22,
   "id": "aa251490",
   "metadata": {},
   "outputs": [
    {
     "data": {
      "text/plain": [
       "-26"
      ]
     },
     "execution_count": 22,
     "metadata": {},
     "output_type": "execute_result"
    }
   ],
   "source": [
    "random.randint(-90, 90)"
   ]
  },
  {
   "cell_type": "code",
   "execution_count": 23,
   "id": "0eb49ce4",
   "metadata": {},
   "outputs": [
    {
     "data": {
      "text/plain": [
       "0.886736074832491"
      ]
     },
     "execution_count": 23,
     "metadata": {},
     "output_type": "execute_result"
    }
   ],
   "source": [
    "random.random()"
   ]
  },
  {
   "cell_type": "code",
   "execution_count": 24,
   "id": "166b7378",
   "metadata": {},
   "outputs": [
    {
     "data": {
      "text/plain": [
       "[53.68315075275276,\n",
       " -72.20527574761951,\n",
       " -28.332546211875528,\n",
       " 37.19074011263317,\n",
       " 17.509713622851898,\n",
       " -34.318700036952336,\n",
       " -19.426627587458583,\n",
       " -82.23173128701012,\n",
       " -88.60860219000064,\n",
       " -38.88919984804448]"
      ]
     },
     "execution_count": 24,
     "metadata": {},
     "output_type": "execute_result"
    }
   ],
   "source": [
    "x = 1\n",
    "latitudes = []\n",
    "while x < 11:\n",
    "    random_lat = random.randint(-90, 89) + random.random()\n",
    "    latitudes.append(random_lat)\n",
    "    x += 1\n",
    "    \n",
    "latitudes"
   ]
  },
  {
   "cell_type": "code",
   "execution_count": 25,
   "id": "f16ad04d",
   "metadata": {},
   "outputs": [
    {
     "data": {
      "text/plain": [
       "-31"
      ]
     },
     "execution_count": 25,
     "metadata": {},
     "output_type": "execute_result"
    }
   ],
   "source": [
    "random.randrange(-90, 90, step=1)"
   ]
  },
  {
   "cell_type": "code",
   "execution_count": 26,
   "id": "0079e9f5",
   "metadata": {},
   "outputs": [
    {
     "data": {
      "text/plain": [
       "12"
      ]
     },
     "execution_count": 26,
     "metadata": {},
     "output_type": "execute_result"
    }
   ],
   "source": [
    "random.randrange(-90, 90, step=3)"
   ]
  },
  {
   "cell_type": "code",
   "execution_count": 27,
   "id": "3cb0883b",
   "metadata": {},
   "outputs": [
    {
     "data": {
      "text/plain": [
       "-40.79039368755971"
      ]
     },
     "execution_count": 27,
     "metadata": {},
     "output_type": "execute_result"
    }
   ],
   "source": [
    "random.uniform(-90, 90)"
   ]
  },
  {
   "cell_type": "code",
   "execution_count": 28,
   "id": "906ae1c3",
   "metadata": {},
   "outputs": [
    {
     "data": {
      "text/plain": [
       "74.69270058728651"
      ]
     },
     "execution_count": 28,
     "metadata": {},
     "output_type": "execute_result"
    }
   ],
   "source": [
    "np.random.uniform(-90.000, 90.000)"
   ]
  },
  {
   "cell_type": "code",
   "execution_count": 29,
   "id": "71006043",
   "metadata": {},
   "outputs": [
    {
     "data": {
      "text/plain": [
       "80.29640220299268"
      ]
     },
     "execution_count": 29,
     "metadata": {},
     "output_type": "execute_result"
    }
   ],
   "source": [
    "np.random.uniform(low=-90, high=90)"
   ]
  },
  {
   "cell_type": "code",
   "execution_count": 30,
   "id": "c4178931",
   "metadata": {},
   "outputs": [
    {
     "data": {
      "text/plain": [
       "array([ 33.76060554, -28.53903109, -50.71619181, -39.49316604,\n",
       "        38.38597615, -18.86612345,  56.49088828,  -1.65291797,\n",
       "        42.98784139,  13.54709969, -86.8464457 , -59.70697182,\n",
       "        48.19572939,  -4.44204564, -79.01742411, -69.82454024,\n",
       "        57.96074983,  55.19943732,  63.46085127,   4.53779802,\n",
       "        75.1102586 , -40.27210192,  -8.3942729 ,  28.02046369,\n",
       "       -11.58224281,  57.88443368,  18.03100063, -89.10698085,\n",
       "       -69.58507812,  23.12057962, -10.70896671, -71.74349156,\n",
       "       -71.96779624,  51.27765782, -82.42549938, -29.5677656 ,\n",
       "       -13.27718738,  57.105888  , -50.34039418, -82.61231196,\n",
       "       -63.15262434, -70.21555764,   3.27052792, -86.76732433,\n",
       "       -84.34489328,  -0.36801279,  52.39917346,  74.26470181,\n",
       "       -81.39841177, -78.38445519])"
      ]
     },
     "execution_count": 30,
     "metadata": {},
     "output_type": "execute_result"
    }
   ],
   "source": [
    "np.random.uniform(-90.000, 90.000, size=50)"
   ]
  },
  {
   "cell_type": "code",
   "execution_count": 31,
   "id": "afe7432e",
   "metadata": {},
   "outputs": [
    {
     "name": "stdout",
     "output_type": "stream",
     "text": [
      "18.1 µs ± 10.2 ns per loop (mean ± std. dev. of 7 runs, 100000 loops each)\n"
     ]
    }
   ],
   "source": [
    "%timeit np.random.uniform(-90.000, 90.000, size=1500)"
   ]
  },
  {
   "cell_type": "code",
   "execution_count": 32,
   "id": "f713018e",
   "metadata": {},
   "outputs": [
    {
     "name": "stdout",
     "output_type": "stream",
     "text": [
      "1.12 ms ± 1.74 µs per loop (mean ± std. dev. of 7 runs, 1000 loops each)\n"
     ]
    }
   ],
   "source": [
    "def latitudes(size):\n",
    "    latitudes = []\n",
    "    x = 0\n",
    "    while x < (size):\n",
    "        random_lat = random.randint(-90, 90) + random.random()\n",
    "        latitudes.append(random_lat)\n",
    "        x += 1\n",
    "    return latitudes\n",
    "# Call the function with 1500.\n",
    "%timeit latitudes(1500)"
   ]
  },
  {
   "cell_type": "code",
   "execution_count": null,
   "id": "f222ac41",
   "metadata": {},
   "outputs": [],
   "source": []
  }
 ],
 "metadata": {
  "kernelspec": {
   "display_name": "Python 3",
   "language": "python",
   "name": "python3"
  },
  "language_info": {
   "codemirror_mode": {
    "name": "ipython",
    "version": 3
   },
   "file_extension": ".py",
   "mimetype": "text/x-python",
   "name": "python",
   "nbconvert_exporter": "python",
   "pygments_lexer": "ipython3",
   "version": "3.8.8"
  }
 },
 "nbformat": 4,
 "nbformat_minor": 5
}
